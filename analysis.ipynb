{
 "cells": [
  {
   "cell_type": "code",
   "execution_count": 1,
   "metadata": {
    "ExecuteTime": {
     "end_time": "2021-03-26T21:42:41.689003Z",
     "start_time": "2021-03-26T21:42:41.303597Z"
    }
   },
   "outputs": [],
   "source": [
    "import numpy as np\n",
    "import matplotlib.pyplot as plt\n",
    "\n",
    "%matplotlib inline"
   ]
  },
  {
   "cell_type": "markdown",
   "metadata": {
    "heading_collapsed": true
   },
   "source": [
    "# Task 1"
   ]
  },
  {
   "cell_type": "code",
   "execution_count": 18,
   "metadata": {
    "ExecuteTime": {
     "end_time": "2021-03-25T21:40:55.968327Z",
     "start_time": "2021-03-25T21:40:55.958771Z"
    },
    "hidden": true
   },
   "outputs": [],
   "source": [
    "discount_fac_exp = [(0.0, 0.0), (0.81632653, 6.319124218840746), (0.26530612, 0.011666270153827044), (0.20408163, 0.0036861185432930737), (0.46938776, 0.20027780933146042), (0.6122449, 0.8830976724393591), (0.71428571, 2.3525290223451174), (0.85714286, 9.500152452355422), (0.91836735, 18.00219046038266), (0.24489796, 0.008182624968553702), (0.83673469, 7.738627611272491), (0.95918367, 28.130480430571936), (0.18367347, 0.0023384355824309176), (0.2244898, 0.00558311315980852), (0.10204082, 0.0), (0.48979592, 0.2498399103971109), (0.36734694, 0.05621358560742688), (0.16326531, 0.0014119539018321197), (0.93877551, 22.457746405899996), (0.97959184, 35.4667081528328), (0.73469388, 2.867235345387632), (0.63265306, 1.0731702517246906), (0.53061224, 0.38190192248498334), (0.14285714, 8.007071269373308E-4), (0.30612245, 0.02399373305162619), (0.42857143, 0.12296902369556267), (0.02040816, 0.0), (0.67346939, 1.592824387790012), (0.7755102, 4.23507799795596), (0.79591837, 5.169830775084944), (0.34693878, 0.04292896387113271), (0.40816327, 0.09668218581990065), (0.65306122, 1.3142715577037107), (0.59183673, 0.7150046406393208), (0.44897959, 0.15505420346838514), (0.55102041, 0.4784464768792334), (0.04081633, 0.0), (0.32653061, 0.03234169598384339), (0.75510204, 3.471611756266979), (0.89795918, 14.489142859059394), (0.87755102, 11.728398368854155), (0.69387755, 1.9273733728885123), (0.06122449, 0.0), (0.57142857, 0.5860275246064264), (1.0, 44.990838509740456), (0.28571429, 0.016247782601443845), (0.3877551, 0.07528877129072463), (0.12244898, 0.0), (0.51020408, 0.30975776259738425), (0.08163265, 0.0), ]\n",
    "discount_fac_exp = sorted(discount_fac_exp, key=lambda x: x[0])"
   ]
  },
  {
   "cell_type": "code",
   "execution_count": 19,
   "metadata": {
    "ExecuteTime": {
     "end_time": "2021-03-25T21:41:05.153041Z",
     "start_time": "2021-03-25T21:41:05.149331Z"
    },
    "hidden": true
   },
   "outputs": [],
   "source": [
    "discount_factors = list(map(lambda x: x[0], discount_fac_exp))\n",
    "rewards = list(map(lambda y: y[1], discount_fac_exp))"
   ]
  },
  {
   "cell_type": "code",
   "execution_count": 24,
   "metadata": {
    "ExecuteTime": {
     "end_time": "2021-03-25T21:42:09.361958Z",
     "start_time": "2021-03-25T21:42:09.255034Z"
    },
    "hidden": true
   },
   "outputs": [
    {
     "data": {
      "text/plain": [
       "[<matplotlib.lines.Line2D at 0x7f8c20012430>]"
      ]
     },
     "execution_count": 24,
     "metadata": {},
     "output_type": "execute_result"
    },
    {
     "data": {
      "image/png": "[encoded data removed]",
      "text/plain": [
       "<Figure size 432x288 with 1 Axes>"
      ]
     },
     "metadata": {
      "needs_background": "light"
     },
     "output_type": "display_data"
    }
   ],
   "source": [
    "plt.plot(discount_factors, rewards, label=\"Rewards\")"
   ]
  },
  {
   "cell_type": "markdown",
   "metadata": {},
   "source": [
    "# Task 4"
   ]
  },
  {
   "cell_type": "code",
   "execution_count": 2,
   "metadata": {
    "ExecuteTime": {
     "end_time": "2021-03-26T21:42:43.374241Z",
     "start_time": "2021-03-26T21:42:43.349517Z"
    }
   },
   "outputs": [],
   "source": [
    "ratios = [0.125, 0.25, 0.5, 1, 2, 4, 8]\n",
    "users= [10,20,30,40,50]\n",
    "values = [(0.125, 269.0), (0.25, 243.0), (0.5, 247.0), (1.0, 241.0), (2.0, 255.0), (4.0, 312.0), (8.0, 241.0), (0.125, 1350.0), (0.25, 1308.0), (0.5, 1379.0), (1.0, 1325.0), (2.0, 1242.0), (4.0, 1365.0), (8.0, 1298.0), (0.125, 3603.0), (0.25, 3467.0), (0.5, 3508.0), (1.0, 3530.0), (2.0, 3496.0), (4.0, 3416.0), (8.0, 3436.0), (0.125, 7046.0), (0.25, 7002.0), (0.5, 6979.0), (1.0, 6948.0), (2.0, 6877.0), (4.0, 7138.0), (8.0, 6908.0), (0.125, 12163.0), (0.25, 12159.0), (0.5, 12211.0), (1.0, 12105.0), (2.0, 12165.0), (4.0, 13230.0), (8.0, 13503.0),]"
   ]
  },
  {
   "cell_type": "code",
   "execution_count": 3,
   "metadata": {
    "ExecuteTime": {
     "end_time": "2021-03-26T21:42:44.673167Z",
     "start_time": "2021-03-26T21:42:44.666585Z"
    }
   },
   "outputs": [
    {
     "data": {
      "text/plain": [
       "35"
      ]
     },
     "execution_count": 3,
     "metadata": {},
     "output_type": "execute_result"
    }
   ],
   "source": [
    "len(values)"
   ]
  },
  {
   "cell_type": "code",
   "execution_count": 4,
   "metadata": {
    "ExecuteTime": {
     "end_time": "2021-03-26T21:42:46.300826Z",
     "start_time": "2021-03-26T21:42:46.296512Z"
    }
   },
   "outputs": [],
   "source": [
    "user_10= values[0:7]\n",
    "user_20= values[7:14]\n",
    "user_30= values[14:21]\n",
    "user_40= values[21:28]\n",
    "user_50= values[28:35]"
   ]
  },
  {
   "cell_type": "code",
   "execution_count": 5,
   "metadata": {
    "ExecuteTime": {
     "end_time": "2021-03-26T21:42:46.850318Z",
     "start_time": "2021-03-26T21:42:46.847178Z"
    }
   },
   "outputs": [],
   "source": [
    "ratio_map = {str(ucount): [] for ucount in users }"
   ]
  },
  {
   "cell_type": "code",
   "execution_count": 6,
   "metadata": {
    "ExecuteTime": {
     "end_time": "2021-03-26T21:42:47.562961Z",
     "start_time": "2021-03-26T21:42:47.557413Z"
    },
    "scrolled": false
   },
   "outputs": [
    {
     "name": "stdout",
     "output_type": "stream",
     "text": [
      "{'10': [(0.125, 269.0), (0.25, 243.0), (0.5, 247.0), (1.0, 241.0), (2.0, 255.0), (4.0, 312.0), (8.0, 241.0)], '20': [(0.125, 1350.0), (0.25, 1308.0), (0.5, 1379.0), (1.0, 1325.0), (2.0, 1242.0), (4.0, 1365.0), (8.0, 1298.0)], '30': [(0.125, 3603.0), (0.25, 3467.0), (0.5, 3508.0), (1.0, 3530.0), (2.0, 3496.0), (4.0, 3416.0), (8.0, 3436.0)], '40': [(0.125, 7046.0), (0.25, 7002.0), (0.5, 6979.0), (1.0, 6948.0), (2.0, 6877.0), (4.0, 7138.0), (8.0, 6908.0)], '50': [(0.125, 12163.0), (0.25, 12159.0), (0.5, 12211.0), (1.0, 12105.0), (2.0, 12165.0), (4.0, 13230.0), (8.0, 13503.0)]}\n"
     ]
    }
   ],
   "source": [
    "for ucount in users:\n",
    "    var = locals()[f\"user_{ucount}\"]\n",
    "#     ratios = list(map(lambda x: x[0], var))\n",
    "#     runtime = list(map(lambda x: x[1], var))\n",
    "#     ratio_runtime = list(zip(ratios, var))\n",
    "    ratio_map[str(ucount)] = var\n",
    "\n",
    "print(ratio_map)"
   ]
  },
  {
   "cell_type": "code",
   "execution_count": 16,
   "metadata": {
    "ExecuteTime": {
     "end_time": "2021-03-26T21:49:23.201647Z",
     "start_time": "2021-03-26T21:49:23.196353Z"
    }
   },
   "outputs": [
    {
     "data": {
      "text/plain": [
       "[(0, (1, 2, 3)), (1, (4, 5, 6))]"
      ]
     },
     "execution_count": 16,
     "metadata": {},
     "output_type": "execute_result"
    }
   ],
   "source": [
    "list(enumerate([(1, 2, 3), (4,5, 6)]))"
   ]
  },
  {
   "cell_type": "code",
   "execution_count": 2,
   "metadata": {
    "ExecuteTime": {
     "end_time": "2021-03-27T14:05:19.574559Z",
     "start_time": "2021-03-27T14:05:19.562665Z"
    }
   },
   "outputs": [
    {
     "name": "stderr",
     "output_type": "stream",
     "text": [
      "<>:29: SyntaxWarning: 'tuple' object is not callable; perhaps you missed a comma?\n",
      "<>:29: SyntaxWarning: 'tuple' object is not callable; perhaps you missed a comma?\n",
      "<ipython-input-2-966d7daca74b>:29: SyntaxWarning: 'tuple' object is not callable; perhaps you missed a comma?\n",
      "  (0.125, 642019.0)\n"
     ]
    },
    {
     "ename": "TypeError",
     "evalue": "'tuple' object is not callable",
     "output_type": "error",
     "traceback": [
      "\u001b[0;31m---------------------------------------------------------------------------\u001b[0m",
      "\u001b[0;31mTypeError\u001b[0m                                 Traceback (most recent call last)",
      "\u001b[0;32m<ipython-input-2-966d7daca74b>\u001b[0m in \u001b[0;36m<module>\u001b[0;34m\u001b[0m\n\u001b[1;32m     27\u001b[0m \u001b[0;34m(\u001b[0m\u001b[0;36m4.0\u001b[0m\u001b[0;34m,\u001b[0m \u001b[0;36m1378525.0\u001b[0m\u001b[0;34m)\u001b[0m\u001b[0;34m,\u001b[0m\u001b[0;34m\u001b[0m\u001b[0;34m\u001b[0m\u001b[0m\n\u001b[1;32m     28\u001b[0m \u001b[0;34m(\u001b[0m\u001b[0;36m8.0\u001b[0m\u001b[0;34m,\u001b[0m \u001b[0;36m18400.0\u001b[0m\u001b[0;34m)\u001b[0m\u001b[0;34m,\u001b[0m\u001b[0;34m\u001b[0m\u001b[0;34m\u001b[0m\u001b[0m\n\u001b[0;32m---> 29\u001b[0;31m \u001b[0;34m(\u001b[0m\u001b[0;36m0.125\u001b[0m\u001b[0;34m,\u001b[0m \u001b[0;36m642019.0\u001b[0m\u001b[0;34m)\u001b[0m\u001b[0;34m\u001b[0m\u001b[0;34m\u001b[0m\u001b[0m\n\u001b[0m\u001b[1;32m     30\u001b[0m \u001b[0;34m(\u001b[0m\u001b[0;36m0.25\u001b[0m\u001b[0;34m,\u001b[0m \u001b[0;36m49871.0\u001b[0m\u001b[0;34m)\u001b[0m\u001b[0;34m,\u001b[0m\u001b[0;34m\u001b[0m\u001b[0;34m\u001b[0m\u001b[0m\n\u001b[1;32m     31\u001b[0m \u001b[0;34m(\u001b[0m\u001b[0;36m0.5\u001b[0m\u001b[0;34m,\u001b[0m \u001b[0;36m42097.0\u001b[0m\u001b[0;34m)\u001b[0m\u001b[0;34m,\u001b[0m\u001b[0;34m\u001b[0m\u001b[0;34m\u001b[0m\u001b[0m\n",
      "\u001b[0;31mTypeError\u001b[0m: 'tuple' object is not callable"
     ]
    }
   ],
   "source": [
    "[(0.125, 587.0), (0.25, 489.0), (0.5, 628.0),\n",
    "(1.0, 697.0), (2.0, 576.0), (4.0, 710.0),\n",
    "(8.0, 512.0),\n",
    "(0.125, 4802.0), \n",
    "(0.25, 4488.0),\n",
    "(0.5, 4575.0), \n",
    "(1.0, 4448.0), \n",
    "(2.0, 67515.0),\n",
    "(4.0, 3193.0), \n",
    "(8.0, 3628.0), \n",
    "(0.125, 18754.0),\n",
    "(0.25, 11994.0), \n",
    "(0.5, 10633.0),\n",
    "(1.0, 9400.0), \n",
    "(2.0, 10361.0),\n",
    "(4.0, 9660.0), \n",
    "(8.0, 7614.0), \n",
    "(0.125, 25117.0),\n",
    "(0.25, 34713.0), \n",
    "(0.5, 26399.0),\n",
    "(1.0, 23847.0),\n",
    "(2.0, 1511125.0),\n",
    "(4.0, 1378525.0),\n",
    "(8.0, 18400.0),\n",
    "(0.125, 642019.0),\n",
    "(0.25, 49871.0), \n",
    "(0.5, 42097.0),\n",
    "(1.0, 5960042.0),\n",
    "(2.0, 42882.0),\n",
    "(4.0, 634061.0), \n",
    "(8.0, 35440.0)]"
   ]
  },
  {
   "cell_type": "code",
   "execution_count": 22,
   "metadata": {
    "ExecuteTime": {
     "end_time": "2021-03-26T21:51:34.246253Z",
     "start_time": "2021-03-26T21:51:34.238038Z"
    }
   },
   "outputs": [],
   "source": [
    "def plot_all(ratio_map):\n",
    "    xs = []\n",
    "    for k in ratio_map:\n",
    "        tmp = ratio_map[k]\n",
    "        tmp = sorted(tmp, key=lambda x: x[0])\n",
    "        x, y = list(map(lambda x: x[0], tmp)), list(map(lambda x: x[1], tmp))\n",
    "#         y = np.array(y) / np.linalg.norm(y)\n",
    "        x, y = zip(*sorted((xVal, np.mean([yVal for a, yVal in zip(x, y) if xVal==a])) for xVal in set(x)))\n",
    "        xs.append((k, x, y))\n",
    "        \n",
    "    plt.figure(figsize=(20, 10))\n",
    "    fig, axs = plt.subplots(5, 1)\n",
    "    for i,v in enumerate(xs):\n",
    "        k, x, y = v\n",
    "        axs[i].plot(x, y, label=k)\n",
    "        axs[i].set_xlabel(\"Ratios\")\n",
    "        axs[i].set_ylabel(\"Normalised Runtime\")\n",
    "#     plt.xticks(ratios, ratios)\n",
    "    plt.legend()\n",
    "    plt.savefig(\"task4.png\", format=\"png\")\n",
    "    plt.show()"
   ]
  },
  {
   "cell_type": "code",
   "execution_count": 23,
   "metadata": {
    "ExecuteTime": {
     "end_time": "2021-03-26T21:51:35.281535Z",
     "start_time": "2021-03-26T21:51:34.776923Z"
    }
   },
   "outputs": [
    {
     "data": {
      "text/plain": [
       "<Figure size 1440x720 with 0 Axes>"
      ]
     },
     "metadata": {},
     "output_type": "display_data"
    },
    {
     "data": {
      "image/png": "[encoded data removed]",
      "text/plain": [
       "<Figure size 432x288 with 5 Axes>"
      ]
     },
     "metadata": {
      "needs_background": "light"
     },
     "output_type": "display_data"
    }
   ],
   "source": [
    "plot_all(ratio_map)"
   ]
  },
  {
   "cell_type": "code",
   "execution_count": null,
   "metadata": {},
   "outputs": [],
   "source": []
  }
 ],
 "metadata": {
  "kernelspec": {
   "display_name": "Python 3",
   "language": "python",
   "name": "python3"
  },
  "language_info": {
   "codemirror_mode": {
    "name": "ipython",
    "version": 3
   },
   "file_extension": ".py",
   "mimetype": "text/x-python",
   "name": "python",
   "nbconvert_exporter": "python",
   "pygments_lexer": "ipython3",
   "version": "3.9.0"
  },
  "toc": {
   "base_numbering": 1,
   "nav_menu": {},
   "number_sections": true,
   "sideBar": true,
   "skip_h1_title": false,
   "title_cell": "Table of Contents",
   "title_sidebar": "Contents",
   "toc_cell": false,
   "toc_position": {},
   "toc_section_display": true,
   "toc_window_display": false
  }
 },
 "nbformat": 4,
 "nbformat_minor": 4
}
